{
 "cells": [
  {
   "cell_type": "code",
   "id": "initial_id",
   "metadata": {
    "collapsed": true,
    "ExecuteTime": {
     "end_time": "2024-11-25T09:36:24.267333Z",
     "start_time": "2024-11-25T09:36:24.247914Z"
    }
   },
   "source": [
    "from langgraph.graph import START, END, StateGraph\n",
    "from langgraph.graph.message import add_messages, MessagesState\n",
    "from langchain_openai import ChatOpenAI\n",
    "from langchain_text_splitters import RecursiveCharacterTextSplitter\n",
    "from langchain_core.tools import tool\n",
    "from typing import TypedDict, Annotated\n",
    "from IPython.display import Image, display\n",
    "from dotenv import load_dotenv\n",
    "import os\n",
    "\n",
    "load_dotenv()\n",
    "\n",
    "from langchain_openai import ChatOpenAI\n",
    "\n"
   ],
   "outputs": [],
   "execution_count": 29
  },
  {
   "metadata": {
    "ExecuteTime": {
     "end_time": "2024-11-25T10:13:57.099582Z",
     "start_time": "2024-11-25T10:13:30.892342Z"
    }
   },
   "cell_type": "code",
   "source": [
    "from langgraph.graph import START, StateGraph\n",
    "from langgraph.prebuilt import tools_condition, ToolNode\n",
    "from langchain_core.documents import Document\n",
    "from langchain_core.prompts import ChatPromptTemplate\n",
    "from langchain.chains import RetrievalQA\n",
    "from langchain_community.document_loaders import PyPDFLoader\n",
    "from langchain_core.runnables import RunnablePassthrough\n",
    "from langchain_core.messages import HumanMessage\n",
    "from langchain_openai import OpenAIEmbeddings\n",
    "from langchain.vectorstores import Chroma\n",
    "from IPython.display import Image, display\n",
    "from langchain import hub\n",
    "\n",
    "prompt = hub.pull(\"rlm/rag-prompt\")\n",
    "\n",
    "class OverallState(MessagesState):\n",
    "    documents: list[Document]\n",
    "    \n",
    "text_splitter = RecursiveCharacterTextSplitter(\n",
    "    chunk_size=1024,\n",
    "    chunk_overlap=64\n",
    ")\n",
    "\n",
    "embeddings = OpenAIEmbeddings(\n",
    "    api_key=os.getenv(\"OPENAI_API_KEY\"),\n",
    "    model=\"text-embedding-3-large\"\n",
    ")\n",
    "\n",
    "llm = ChatOpenAI(\n",
    "    api_key=os.getenv(\"OPENAI_API_KEY\"),\n",
    "    model=\"gpt-4o-mini\"\n",
    ")\n",
    "\n",
    "def load_document(state: OverallState):\n",
    "    loader = PyPDFLoader(\"data/AML_IEEE_ACCESS_2024.pdf\", extract_images=True)\n",
    "    pages = loader.load()\n",
    "    return {\"documents\": pages}\n",
    "\n",
    "def split_text(state: OverallState):\n",
    "    texts = text_splitter.split_documents(state[\"documents\"])\n",
    "    return {\"documents\": texts}\n",
    "\n",
    "def format_docs(docs):\n",
    "    return \"\\n\\n\".join(doc.page_content for doc in docs)\n",
    "\n",
    "\n",
    "def ask_question(state: OverallState):\n",
    "    db = Chroma.from_documents(state[\"documents\"], embeddings, persist_directory=\"db\")\n",
    "    retriever = db.as_retriever()\n",
    "    rag_chain = {\"context\": retriever | format_docs, \"question\": RunnablePassthrough()} | prompt | llm\n",
    "    message = rag_chain.invoke(state[\"messages\"][0].content)\n",
    "    return {\"messages\": message.content}\n",
    "\n",
    "\n",
    "builder = StateGraph(OverallState)\n",
    "builder.add_node(\"Load Documents\", load_document)\n",
    "builder.add_node(\"Split Text\", split_text)\n",
    "builder.add_node(\"Ask Question\", ask_question)\n",
    "builder.add_edge(START, \"Load Documents\")\n",
    "builder.add_edge(\"Load Documents\", \"Split Text\")\n",
    "builder.add_edge(\"Split Text\", \"Ask Question\")\n",
    "builder.add_edge(\"Ask Question\", END)\n",
    "graph = builder.compile()\n",
    "print(graph.invoke({\"messages\": [\"Who are you\"]})[\"messages\"])\n",
    "    \n",
    "    \n",
    "    "
   ],
   "id": "c6c3984739a17567",
   "outputs": [
    {
     "name": "stdout",
     "output_type": "stream",
     "text": [
      "[HumanMessage(content='Who are you', additional_kwargs={}, response_metadata={}, id='85b84add-839a-4515-832a-87ba99bc16ff'), HumanMessage(content='I am an assistant for question-answering tasks. I utilize retrieved context to provide concise responses to inquiries. If you have any specific questions, feel free to ask!', additional_kwargs={}, response_metadata={}, id='840a6463-5ecd-4484-a636-f7a078dcdcf8')]\n"
     ]
    }
   ],
   "execution_count": 49
  },
  {
   "metadata": {},
   "cell_type": "code",
   "outputs": [],
   "execution_count": null,
   "source": "",
   "id": "8ddb4c7de7821888"
  }
 ],
 "metadata": {
  "kernelspec": {
   "display_name": "Python 3",
   "language": "python",
   "name": "python3"
  },
  "language_info": {
   "codemirror_mode": {
    "name": "ipython",
    "version": 2
   },
   "file_extension": ".py",
   "mimetype": "text/x-python",
   "name": "python",
   "nbconvert_exporter": "python",
   "pygments_lexer": "ipython2",
   "version": "2.7.6"
  }
 },
 "nbformat": 4,
 "nbformat_minor": 5
}
